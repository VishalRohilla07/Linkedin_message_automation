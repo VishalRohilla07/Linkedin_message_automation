{
 "cells": [
  {
   "cell_type": "code",
   "execution_count": 37,
   "id": "c8cb27bd",
   "metadata": {},
   "outputs": [],
   "source": [
    "from selenium import webdriver\n",
    "from selenium.webdriver.common.keys import Keys\n",
    "from selenium.webdriver.support import expected_conditions as EC\n",
    "from selenium.webdriver.common.by import By\n",
    "from selenium.webdriver.support.wait import WebDriverWait\n",
    "import time"
   ]
  },
  {
   "cell_type": "code",
   "execution_count": 38,
   "id": "b308c9ca",
   "metadata": {},
   "outputs": [],
   "source": [
    "driver = webdriver.Chrome()\n",
    "driver.get(\"https://linkedin.com\")"
   ]
  },
  {
   "cell_type": "code",
   "execution_count": 39,
   "id": "34a665cf",
   "metadata": {},
   "outputs": [],
   "source": [
    "time.sleep(2)\n",
    "\n",
    "username = driver.find_element_by_xpath(\"//input[@name='session_key']\")\n",
    "password = driver.find_element_by_xpath(\"//input[@name='session_password']\")\n",
    "\n",
    "username.send_keys(\"rohillavishal199@gmail.com\") # here you need to provide your username/id/gmail\n",
    "password.send_keys(\"7206609340a\") # here you need to provide your password\n",
    "\n",
    "submit = driver.find_element_by_xpath(\"//button[@type='submit']\").click()\n",
    "time.sleep(2)\n"
   ]
  },
  {
   "cell_type": "code",
   "execution_count": 40,
   "id": "def9470e",
   "metadata": {},
   "outputs": [],
   "source": [
    "import random\n",
    "\n",
    "n_pages = 3\n",
    "\n",
    "for n in range(1,n_pages):\n",
    "\n",
    "    driver.get(\"https://www.linkedin.com/search/results/people/?network=%5B%22F%22%5D&origin=FACETED_SEARCH&page=\" + str(n))\n",
    "    time.sleep(2)\n",
    "\n",
    "    all_buttons = driver.find_elements_by_tag_name(\"button\")\n",
    "    message_buttons = [btn for btn in all_buttons if btn.text == \"Message\"]\n",
    "\n",
    "    for i in range(0, len(message_buttons)):\n",
    "\n",
    "        driver.execute_script(\"arguments[0].click();\", message_buttons[i])\n",
    "        time.sleep(2)\n",
    "        main_div = driver.find_element_by_xpath(\"//div[starts-with(@class,'msg-form__msg-content-container')]\")\n",
    "        driver.execute_script(\"arguments[0].click();\", main_div)\n",
    "\n",
    "        paragraphs = driver.find_elements_by_tag_name(\"p\")\n",
    "        all_span = driver.find_elements_by_tag_name(\"span\")\n",
    "        all_span = [s for s in all_span if s.get_attribute(\"aria-hidden\") == \"true\"]\n",
    "\n",
    "        idx = [*range(14,44,4)]\n",
    "        greetings = [\"Hello\",\"Hi\",\"Hey\",\"Yo\"]\n",
    "        all_names =[]\n",
    "        \n",
    "        for j in idx:\n",
    "            name = all_span[j].text.split(\" \")[0]\n",
    "            all_names.append(name)\n",
    "            \n",
    "        greetings_idx = random.randint(0, len(greetings) -1)\n",
    "        message = greetings[greetings_idx] + \" \" + all_names[i] + \",nice to meet you\"\n",
    "        paragraphs[-5].send_keys(message)\n",
    "\n",
    "        time.sleep(2)\n",
    "        submit = driver.find_element_by_xpath(\"//button[@type='submit']\").click()\n",
    "        time.sleep(2)\n",
    "        close_button = driver.find_element_by_xpath(\"//button[starts-with(@data-control-name, 'overlay.close_conversation_window')]\")\n",
    "        driver.execute_script(\"arguments[0].click();\", close_button)\n",
    "        time.sleep(2)"
   ]
  },
  {
   "cell_type": "code",
   "execution_count": null,
   "id": "fdec83d8",
   "metadata": {},
   "outputs": [],
   "source": []
  },
  {
   "cell_type": "code",
   "execution_count": null,
   "id": "2a2731db",
   "metadata": {},
   "outputs": [],
   "source": []
  }
 ],
 "metadata": {
  "kernelspec": {
   "display_name": "Python 3 (ipykernel)",
   "language": "python",
   "name": "python3"
  },
  "language_info": {
   "codemirror_mode": {
    "name": "ipython",
    "version": 3
   },
   "file_extension": ".py",
   "mimetype": "text/x-python",
   "name": "python",
   "nbconvert_exporter": "python",
   "pygments_lexer": "ipython3",
   "version": "3.9.7"
  }
 },
 "nbformat": 4,
 "nbformat_minor": 5
}
